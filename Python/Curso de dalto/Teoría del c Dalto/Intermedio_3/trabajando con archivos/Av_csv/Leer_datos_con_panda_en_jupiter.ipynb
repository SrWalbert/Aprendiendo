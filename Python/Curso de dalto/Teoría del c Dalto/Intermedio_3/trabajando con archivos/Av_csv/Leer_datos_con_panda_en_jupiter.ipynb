{
 "cells": [
  {
   "cell_type": "code",
   "execution_count": 3,
   "metadata": {},
   "outputs": [
    {
     "data": {
      "text/html": [
       "<div>\n",
       "<style scoped>\n",
       "    .dataframe tbody tr th:only-of-type {\n",
       "        vertical-align: middle;\n",
       "    }\n",
       "\n",
       "    .dataframe tbody tr th {\n",
       "        vertical-align: top;\n",
       "    }\n",
       "\n",
       "    .dataframe thead th {\n",
       "        text-align: right;\n",
       "    }\n",
       "</style>\n",
       "<table border=\"1\" class=\"dataframe\">\n",
       "  <thead>\n",
       "    <tr style=\"text-align: right;\">\n",
       "      <th></th>\n",
       "      <th>Nombre</th>\n",
       "      <th>\"Apellido\"</th>\n",
       "      <th>\"Edad\"</th>\n",
       "      <th>\"Sexo\"</th>\n",
       "      <th>\"txt\"</th>\n",
       "    </tr>\n",
       "  </thead>\n",
       "  <tbody>\n",
       "    <tr>\n",
       "      <th>0</th>\n",
       "      <td>Camila</td>\n",
       "      <td>\"López\"</td>\n",
       "      <td>21</td>\n",
       "      <td>\"mujer\"</td>\n",
       "      <td>\"jakgj dsalkfjkj fajf a\"</td>\n",
       "    </tr>\n",
       "    <tr>\n",
       "      <th>1</th>\n",
       "      <td>José</td>\n",
       "      <td>\"Hernandez\"</td>\n",
       "      <td>45</td>\n",
       "      <td>\"hombre\"</td>\n",
       "      <td>\"jaifj fjakjf fiauropier da fuioewpids\"</td>\n",
       "    </tr>\n",
       "    <tr>\n",
       "      <th>2</th>\n",
       "      <td>Manuél</td>\n",
       "      <td>\"Cásares\"</td>\n",
       "      <td>34</td>\n",
       "      <td>\"hombre\"</td>\n",
       "      <td>\"jdafvc\"</td>\n",
       "    </tr>\n",
       "    <tr>\n",
       "      <th>3</th>\n",
       "      <td>David</td>\n",
       "      <td>\"Rosalez\"</td>\n",
       "      <td>18</td>\n",
       "      <td>\"hombre\"</td>\n",
       "      <td>\"llfadskñññ\"</td>\n",
       "    </tr>\n",
       "  </tbody>\n",
       "</table>\n",
       "</div>"
      ],
      "text/plain": [
       "   Nombre    \"Apellido\"   \"Edad\"     \"Sexo\"  \\\n",
       "0  Camila       \"López\"       21    \"mujer\"   \n",
       "1    José   \"Hernandez\"       45   \"hombre\"   \n",
       "2  Manuél     \"Cásares\"       34   \"hombre\"   \n",
       "3   David     \"Rosalez\"       18   \"hombre\"   \n",
       "\n",
       "                                      \"txt\"  \n",
       "0                  \"jakgj dsalkfjkj fajf a\"  \n",
       "1   \"jaifj fjakjf fiauropier da fuioewpids\"  \n",
       "2                                  \"jdafvc\"  \n",
       "3                              \"llfadskñññ\"  "
      ]
     },
     "execution_count": 3,
     "metadata": {},
     "output_type": "execute_result"
    }
   ],
   "source": [
    "import pandas as pd\n",
    "\n",
    "\n",
    "datos_con_panda = pd.read_csv(\n",
    "    \"C:\\\\Users\\\\gertr\\\\OneDrive\\\\Escritorio\\\\Walbert\\\\VS Code\\\\Aprendiendo\\\\Python\\\\Curso de dalto\\\\Teoría del c Dalto\\\\Avanzado\\\\trabajando con archivos\\\\Av_csv\\\\archivos_csv\\\\datos_de_ejemplo.csv\",\n",
    "    sep=\",\",\n",
    "    encoding=\"utf-8\",\n",
    ")\n",
    "datos_con_panda"
   ]
  }
 ],
 "metadata": {
  "kernelspec": {
   "display_name": "Python 3",
   "language": "python",
   "name": "python3"
  },
  "language_info": {
   "codemirror_mode": {
    "name": "ipython",
    "version": 3
   },
   "file_extension": ".py",
   "mimetype": "text/x-python",
   "name": "python",
   "nbconvert_exporter": "python",
   "pygments_lexer": "ipython3",
   "version": "3.11.4"
  },
  "orig_nbformat": 4
 },
 "nbformat": 4,
 "nbformat_minor": 2
}
